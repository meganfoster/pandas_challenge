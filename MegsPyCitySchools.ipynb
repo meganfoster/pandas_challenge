{
 "cells": [
  {
   "cell_type": "markdown",
   "metadata": {},
   "source": [
    "### Note\n",
    "* Instructions have been included for each segment. You do not have to follow them exactly, but they are included to help you think through the steps."
   ]
  },
  {
   "cell_type": "code",
   "execution_count": null,
   "metadata": {},
   "outputs": [],
   "source": [
    "# Dependencies and Setup\n",
    "import pandas as pd\n",
    "\n",
    "# File to Load (Remember to Change These)\n",
    "school_data_to_load = \"Resources/schools_complete.csv\"\n",
    "student_data_to_load = \"Resources/students_complete.csv\"\n",
    "\n",
    "# Read School and Student Data File and store into Pandas DataFrames\n",
    "school_data = pd.read_csv(school_data_to_load)\n",
    "student_data = pd.read_csv(student_data_to_load)\n",
    "\n",
    "# Combine the data into a single dataset.  \n",
    "school_data_complete = pd.merge(student_data, school_data, how=\"left\", on=[\"school_name\", \"school_name\"])"
   ]
  },
  {
   "cell_type": "markdown",
   "metadata": {},
   "source": [
    "## District Summary\n",
    "\n",
    "* Calculate the total number of schools\n",
    "\n",
    "* Calculate the total number of students\n",
    "\n",
    "* Calculate the total budget\n",
    "\n",
    "* Calculate the average math score \n",
    "\n",
    "* Calculate the average reading score\n",
    "\n",
    "* Calculate the percentage of students with a passing math score (70 or greater)\n",
    "\n",
    "* Calculate the percentage of students with a passing reading score (70 or greater)\n",
    "\n",
    "* Calculate the percentage of students who passed math **and** reading (% Overall Passing)\n",
    "\n",
    "* Create a dataframe to hold the above results\n",
    "\n",
    "* Optional: give the displayed data cleaner formatting"
   ]
  },
  {
   "cell_type": "code",
   "execution_count": null,
   "metadata": {},
   "outputs": [],
   "source": [
    "# Calculate the total number of schools; find the total number of unique schools\n",
    "unique_schools = school_data_complete[\"school_name\"].unique()\n",
    "school_count = len(unique_schools)\n",
    "\n",
    "# Calculate the total number of students\n",
    "total_students = school_data_complete[\"student_name\"].count()\n",
    "\n",
    "# Calculate the total budget; find unique budget values and add together\n",
    "unique_budgets = school_data_complete[\"budget\"].unique()\n",
    "total_budget = sum(unique_budgets)\n",
    "\n",
    "# Calculate the average math score\n",
    "av_math = school_data_complete[\"math_score\"].mean()\n",
    "\n",
    "# Calculate the average reading score\n",
    "av_read = school_data_complete[\"reading_score\"].mean()\n",
    "\n",
    "# Calculate the percentage of students with a passing math score (70 or greater)\n",
    "# Create dataframe with math scores > 70 and count number of students\n",
    "math_pass_df = school_data_complete.loc[school_data_complete[\"math_score\"] >= 70, [\n",
    "    \"school_name\", \"student_name\", \"math_score\", \"reading_score\"]]\n",
    "math_pass_rate = math_pass_df[\"student_name\"].count()/total_students*100\n",
    "\n",
    "# Calculate the percentage of students with a passing reading score (70 or greater)\n",
    "# Create dataframe with reading scores > 70 and count number of students\n",
    "read_pass_df = school_data_complete.loc[school_data_complete[\"reading_score\"] >= 70, [\n",
    "    \"school_name\", \"student_name\", \"reading_score\"]]\n",
    "read_pass_rate = read_pass_df[\"student_name\"].count()/total_students*100\n",
    "\n",
    "# Calculate the percentage of students who passed math and reading (% Overall Passing)\n",
    "# Create dataframe with math and reading scores > 70 and count number of students\n",
    "both_pass_df = math_pass_df.loc[math_pass_df[\"reading_score\"] >= 70, [\"school_name\", \"student_name\", \n",
    "                                                                      \"math_score\", \"reading_score\"]]\n",
    "both_pass_rate = both_pass_df[\"student_name\"].count()/total_students*100\n",
    "\n",
    "# Create a dataframe to hold the above results\n",
    "district_summary_df = pd.DataFrame({\"Total Schools\": [school_count],\n",
    "                                    \"Total Students\": [total_students],\n",
    "                                    \"Total Budget\": [total_budget],\n",
    "                                    \"Average Math Score\": [av_math],\n",
    "                                    \"Average Reading Score\": [av_read],\n",
    "                                    \"% Passing Math\": [math_pass_rate],\n",
    "                                    \"% Passing Reading\": [read_pass_rate],\n",
    "                                    \"% Overall Passing\": [both_pass_rate]})\n",
    "\n",
    "# Optional: give the displayed data cleaner formatting\n",
    "district_summary_df[\"Total Budget\"] = district_summary_df[\"Total Budget\"].map(\"${:,.2f}\".format)\n",
    "district_summary_df[\"Total Students\"] = district_summary_df[\"Total Students\"].map(\"{:,}\".format)\n",
    "district_summary_df"
   ]
  },
  {
   "cell_type": "markdown",
   "metadata": {},
   "source": [
    "## School Summary"
   ]
  },
  {
   "cell_type": "markdown",
   "metadata": {},
   "source": [
    "* Create an overview table that summarizes key metrics about each school, including:\n",
    "  * School Name\n",
    "  * School Type\n",
    "  * Total Students\n",
    "  * Total School Budget\n",
    "  * Per Student Budget\n",
    "  * Average Math Score\n",
    "  * Average Reading Score\n",
    "  * % Passing Math\n",
    "  * % Passing Reading\n",
    "  * % Overall Passing (The percentage of students that passed math **and** reading.)\n",
    "  \n",
    "* Create a dataframe to hold the above results"
   ]
  },
  {
   "cell_type": "code",
   "execution_count": null,
   "metadata": {},
   "outputs": [],
   "source": [
    "# Group by School Name and create data frame for averages and counts\n",
    "schools_group = school_data_complete.groupby(\"school_name\")\n",
    "ave_df = pd.DataFrame(schools_group[[\"math_score\", \"reading_score\", \"budget\"]].mean())\n",
    "count_df = pd.DataFrame(schools_group[[\"student_name\"]].count())\n",
    "\n",
    "# Merge created data frames based on school_name\n",
    "school_merge_df = pd.merge(count_df, ave_df, on=\"school_name\")\n",
    "school_merge_df=school_merge_df.rename(columns={\"student_name\":\"Total Students\", \n",
    "                                                \"math_score\":\"Average Math Score\",\n",
    "                                                \"reading_score\":\"Average Reading Score\",\n",
    "                                                \"budget\": \"Total School Budget\"})\n",
    "\n",
    "# Calculate per student budget\n",
    "school_merge_df[\"Per Student Budget\"]=school_merge_df[\"Total School Budget\"]/school_merge_df[\"Total Students\"]\n",
    "\n",
    "# Calculate number of students who passed using test score data frames\n",
    "# Calculate total number of students who passed math by school\n",
    "math_group = math_pass_df.groupby(\"school_name\")\n",
    "math_group_pass_df = pd.DataFrame(math_group[[\"student_name\"]].count())\n",
    "school_mergem_df = pd.merge(school_merge_df, math_group_pass_df, on=\"school_name\")\n",
    "school_mergem_df=school_mergem_df.rename(columns={\"student_name\":\"Students Who Passed Math\"})\n",
    "\n",
    "# Calculate total number of students who passed reading by school\n",
    "read_group = read_pass_df.groupby(\"school_name\")\n",
    "read_group_pass_df = pd.DataFrame(read_group[[\"student_name\"]].count())\n",
    "school_merger_df = pd.merge(school_mergem_df, read_group_pass_df, on=\"school_name\")\n",
    "school_merger_df=school_merger_df.rename(columns={\"student_name\":\"Students Who Passed Reading\"})\n",
    "\n",
    "# Calculate total number of students who passed both math & reading by school\n",
    "both_group = both_pass_df.groupby(\"school_name\")\n",
    "both_group_pass_df = pd.DataFrame(both_group[[\"student_name\"]].count())\n",
    "school_mergeb_df = pd.merge(school_merger_df, both_group_pass_df, on=\"school_name\")\n",
    "school_mergeb_df=school_mergeb_df.rename(columns={\"student_name\":\"Students Who Passed Both\"})\n",
    "\n",
    "# Calculate percentage of students who passed\n",
    "school_mergeb_df[\"% Passing Math\"] = school_mergeb_df[\"Students Who Passed Math\"]/school_mergeb_df[\"Total Students\"]*100\n",
    "school_mergeb_df[\"% Passing Reading\"] = school_mergeb_df[\"Students Who Passed Reading\"]/school_mergeb_df[\"Total Students\"]*100\n",
    "school_mergeb_df[\"% Overall Passing\"] = school_mergeb_df[\"Students Who Passed Both\"]/school_mergeb_df[\"Total Students\"]*100\n",
    "\n",
    "# Add School Type to data frame with merge and create School Type DF\n",
    "school_type_df = school_data[[\"school_name\", \"type\"]]\n",
    "school_mergef_df = pd.merge(school_mergeb_df, school_type_df, on=\"school_name\", how=\"left\")\n",
    "school_mergef_df=school_mergef_df.rename(columns={\"type\":\"School Type\"})\n",
    "\n",
    "# Create final data frame and make it pretty\n",
    "final_school_df = school_mergef_df[[\"school_name\", \"School Type\", \"Total Students\", \"Total School Budget\", \"Per Student Budget\",\n",
    "                                    \"Average Math Score\", \"Average Reading Score\", \"% Passing Math\", \n",
    "                                    \"% Passing Reading\", \"% Overall Passing\"]]\n",
    "\n",
    "tidy_final_school_df = final_school_df.set_index(\"school_name\")\n",
    "tidy_final_school_df.index.name = None\n",
    "tidy_final_school_df[\"Total School Budget\"] = tidy_final_school_df[\"Total School Budget\"].map(\"${:,.2f}\".format)\n",
    "tidy_final_school_df[\"Per Student Budget\"] = tidy_final_school_df[\"Per Student Budget\"].map(\"${:,.2f}\".format)\n",
    "\n",
    "tidy_final_school_df"
   ]
  },
  {
   "cell_type": "markdown",
   "metadata": {},
   "source": [
    "## Top Performing Schools (By % Overall Passing)"
   ]
  },
  {
   "cell_type": "markdown",
   "metadata": {},
   "source": [
    "* Sort and display the top five performing schools by % overall passing."
   ]
  },
  {
   "cell_type": "code",
   "execution_count": null,
   "metadata": {
    "scrolled": true
   },
   "outputs": [],
   "source": [
    "# Sort final dataframe to find top 5 performing schools\n",
    "best_school_df = tidy_final_school_df.sort_values(\"% Overall Passing\", ascending=False)\n",
    "best_school_df.iloc[0:5,:]"
   ]
  },
  {
   "cell_type": "markdown",
   "metadata": {},
   "source": [
    "## Bottom Performing Schools (By % Overall Passing)"
   ]
  },
  {
   "cell_type": "markdown",
   "metadata": {},
   "source": [
    "* Sort and display the five worst-performing schools by % overall passing."
   ]
  },
  {
   "cell_type": "code",
   "execution_count": null,
   "metadata": {},
   "outputs": [],
   "source": [
    "# Sort final dataframe to find top 5 performing schools\n",
    "worst_school_df = tidy_final_school_df.sort_values(\"% Overall Passing\")\n",
    "worst_school_df.iloc[0:5,:]"
   ]
  },
  {
   "cell_type": "markdown",
   "metadata": {
    "collapsed": true
   },
   "source": [
    "\n",
    "## Math Scores by Grade"
   ]
  },
  {
   "cell_type": "markdown",
   "metadata": {},
   "source": [
    "* Create a table that lists the average Reading Score for students of each grade level (9th, 10th, 11th, 12th) at each school.\n",
    "\n",
    "  * Create a pandas series for each grade. Hint: use a conditional statement.\n",
    "  \n",
    "  * Group each series by school\n",
    "  \n",
    "  * Combine the series into a dataframe\n",
    "  \n",
    "  * Optional: give the displayed data cleaner formatting"
   ]
  },
  {
   "cell_type": "code",
   "execution_count": null,
   "metadata": {},
   "outputs": [],
   "source": [
    "# Isolate ninth_grade math scores and create series\n",
    "ninth_math = school_data_complete.loc[school_data_complete[\"grade\"] == \"9th\", :]\n",
    "ninth_math_scores = pd.Series(ninth_math[\"math_score\"])\n",
    "ninth_math_scores = ninth_math_scores.set_axis(ninth_math[\"school_name\"])\n",
    "ninth_math_group = ninth_math_scores.groupby(\"school_name\").mean()\n",
    "\n",
    "# Isolate tenth_grade math scores and create series\n",
    "tenth_math = school_data_complete.loc[school_data_complete[\"grade\"] == \"10th\", :]\n",
    "tenth_math_scores = pd.Series(tenth_math[\"math_score\"])\n",
    "tenth_math_scores = tenth_math_scores.set_axis(tenth_math[\"school_name\"])\n",
    "tenth_math_group = tenth_math_scores.groupby(\"school_name\").mean()\n",
    "\n",
    "# Isolate eleventh_grade math scores and create series\n",
    "eleventh_math = school_data_complete.loc[school_data_complete[\"grade\"] == \"11th\", :]\n",
    "eleventh_math_scores = pd.Series(eleventh_math[\"math_score\"])\n",
    "eleventh_math_scores = eleventh_math_scores.set_axis(eleventh_math[\"school_name\"])\n",
    "eleventh_math_group = eleventh_math_scores.groupby(\"school_name\").mean()\n",
    "\n",
    "# Isolate ninth_grade math scores and create series\n",
    "twelfth_math = school_data_complete.loc[school_data_complete[\"grade\"] == \"12th\", :]\n",
    "twelfth_math_scores = pd.Series(twelfth_math[\"math_score\"])\n",
    "twelfth_math_scores = twelfth_math_scores.set_axis(twelfth_math[\"school_name\"])\n",
    "twelfth_math_group = twelfth_math_scores.groupby(\"school_name\").mean()\n",
    "\n",
    "# Create Data Frame with all averages by grade by merging\n",
    "math_merge1_df = pd.merge(ninth_math_group, tenth_math_group, on=\"school_name\")\n",
    "math_merge1_df = math_merge1_df.rename(columns={\"math_score_x\":\"9th\",\n",
    "                                                \"math_score_y\":\"10th\"})\n",
    "\n",
    "math_merge2_df = pd.merge(math_merge1_df, eleventh_math_group, on=\"school_name\")\n",
    "math_merge2_df = math_merge2_df.rename(columns={\"math_score\":\"11th\"})\n",
    "\n",
    "math_merge3_df = pd.merge(math_merge2_df, twelfth_math_group, on=\"school_name\")\n",
    "math_merge3_df = math_merge3_df.rename(columns={\"math_score\":\"12th\"})\n",
    "\n",
    "math_merge3_df.index.name = None\n",
    "math_merge3_df"
   ]
  },
  {
   "cell_type": "markdown",
   "metadata": {},
   "source": [
    "## Reading Score by Grade "
   ]
  },
  {
   "cell_type": "markdown",
   "metadata": {},
   "source": [
    "* Perform the same operations as above for reading scores"
   ]
  },
  {
   "cell_type": "code",
   "execution_count": null,
   "metadata": {},
   "outputs": [],
   "source": [
    "\n",
    "# Isolate ninth_grade reading scores and create series\n",
    "ninth_reading = school_data_complete.loc[school_data_complete[\"grade\"] == \"9th\", :]\n",
    "ninth_reading_scores = pd.Series(ninth_reading[\"reading_score\"])\n",
    "ninth_reading_scores = ninth_reading_scores.set_axis(ninth_reading[\"school_name\"])\n",
    "ninth_reading_group = ninth_reading_scores.groupby(\"school_name\").mean()\n",
    "\n",
    "# Isolate tenth_grade reading scores and create series\n",
    "tenth_reading = school_data_complete.loc[school_data_complete[\"grade\"] == \"10th\", :]\n",
    "tenth_reading_scores = pd.Series(tenth_reading[\"reading_score\"])\n",
    "tenth_reading_scores = tenth_reading_scores.set_axis(tenth_reading[\"school_name\"])\n",
    "tenth_reading_group = tenth_reading_scores.groupby(\"school_name\").mean()\n",
    "\n",
    "# Isolate eleventh_grade reading scores and create series\n",
    "eleventh_reading = school_data_complete.loc[school_data_complete[\"grade\"] == \"11th\", :]\n",
    "eleventh_reading_scores = pd.Series(eleventh_reading[\"reading_score\"])\n",
    "eleventh_reading_scores = eleventh_reading_scores.set_axis(eleventh_reading[\"school_name\"])\n",
    "eleventh_reading_group = eleventh_reading_scores.groupby(\"school_name\").mean()\n",
    "\n",
    "# Isolate ninth_grade reading scores and create series\n",
    "twelfth_reading = school_data_complete.loc[school_data_complete[\"grade\"] == \"12th\", :]\n",
    "twelfth_reading_scores = pd.Series(twelfth_reading[\"reading_score\"])\n",
    "twelfth_reading_scores = twelfth_reading_scores.set_axis(twelfth_reading[\"school_name\"])\n",
    "twelfth_reading_group = twelfth_reading_scores.groupby(\"school_name\").mean()\n",
    "\n",
    "# Create Data Frame with all averages by grade by merging\n",
    "reading_merge1_df = pd.merge(ninth_reading_group, tenth_reading_group, on=\"school_name\")\n",
    "reading_merge1_df = reading_merge1_df.rename(columns={\"reading_score_x\":\"9th\",\n",
    "                                                \"reading_score_y\":\"10th\"})\n",
    "\n",
    "reading_merge2_df = pd.merge(reading_merge1_df, eleventh_reading_group, on=\"school_name\")\n",
    "reading_merge2_df = reading_merge2_df.rename(columns={\"reading_score\":\"11th\"})\n",
    "\n",
    "reading_merge3_df = pd.merge(reading_merge2_df, twelfth_reading_group, on=\"school_name\")\n",
    "reading_merge3_df = reading_merge3_df.rename(columns={\"reading_score\":\"12th\"})\n",
    "\n",
    "reading_merge3_df.index.name = None\n",
    "reading_merge3_df"
   ]
  },
  {
   "cell_type": "markdown",
   "metadata": {},
   "source": [
    "## Scores by School Spending"
   ]
  },
  {
   "cell_type": "markdown",
   "metadata": {},
   "source": [
    "* Create a table that breaks down school performances based on average Spending Ranges (Per Student). Use 4 reasonable bins to group school spending. Include in the table each of the following:\n",
    "  * Average Math Score\n",
    "  * Average Reading Score\n",
    "  * % Passing Math\n",
    "  * % Passing Reading\n",
    "  * Overall Passing Rate (Average of the above two)"
   ]
  },
  {
   "cell_type": "code",
   "execution_count": null,
   "metadata": {},
   "outputs": [],
   "source": [
    "# Create the Spending Range bins in which Data will be held \n",
    "spend_bins = [0, 585, 630, 645, 675]\n",
    "\n",
    "# Create the names for the four bins\n",
    "spend_bin_names = [\"<$584\", \"$585-629\", \"$630-644\", \"$645-675\"]\n",
    "\n",
    "# Add bins to final summary data frame\n",
    "final_school_df[\"Spending Ranges (Per Student)\"] = pd.cut(final_school_df[\"Per Student Budget\"], spend_bins, \n",
    "                                                          labels=spend_bin_names)\n",
    "\n",
    "# Sort values by Spending Range\n",
    "scores_by_spend = final_school_df.groupby(\"Spending Ranges (Per Student)\")\n",
    "scores_by_spend_df = pd.DataFrame(scores_by_spend[[\"Average Math Score\", \"Average Reading Score\", \"% Passing Math\", \n",
    "                                                 \"% Passing Reading\", \"% Overall Passing\"]].mean())\n",
    "scores_by_spend_df"
   ]
  },
  {
   "cell_type": "markdown",
   "metadata": {},
   "source": [
    "## Scores by School Size"
   ]
  },
  {
   "cell_type": "markdown",
   "metadata": {},
   "source": [
    "* Perform the same operations as above, based on school size."
   ]
  },
  {
   "cell_type": "code",
   "execution_count": null,
   "metadata": {
    "scrolled": true
   },
   "outputs": [],
   "source": [
    "# Create the School Size bins in which Data will be held \n",
    "size_bins = [0, 1000, 2000, 5000]\n",
    "\n",
    "# Create the names for the three bins\n",
    "size_bin_names = [\"Small (<1000)\", \"Medium (1000-2000)\", \"Large (2000-5000)\"]\n",
    "\n",
    "# Add school size bins to final summary data frame\n",
    "final_school_df[\"School Size\"] = pd.cut(final_school_df[\"Total Students\"], size_bins, \n",
    "                                                          labels=size_bin_names)\n",
    "\n",
    "# Sort values by School Size\n",
    "scores_by_size = final_school_df.groupby(\"School Size\")\n",
    "scores_by_size_df = pd.DataFrame(scores_by_size[[\"Average Math Score\", \"Average Reading Score\", \"% Passing Math\", \n",
    "                                                 \"% Passing Reading\", \"% Overall Passing\"]].mean())\n",
    "scores_by_size_df"
   ]
  },
  {
   "cell_type": "markdown",
   "metadata": {},
   "source": [
    "## Scores by School Type"
   ]
  },
  {
   "cell_type": "markdown",
   "metadata": {},
   "source": [
    "* Perform the same operations as above, based on school type"
   ]
  },
  {
   "cell_type": "code",
   "execution_count": null,
   "metadata": {},
   "outputs": [],
   "source": [
    "# Sort values by School Type\n",
    "scores_by_type = final_school_df.groupby(\"School Type\")\n",
    "scores_by_type_df = pd.DataFrame(scores_by_type[[\"Average Math Score\", \"Average Reading Score\", \"% Passing Math\", \n",
    "                                                 \"% Passing Reading\", \"% Overall Passing\"]].mean())\n",
    "scores_by_type_df"
   ]
  },
  {
   "cell_type": "code",
   "execution_count": null,
   "metadata": {},
   "outputs": [],
   "source": []
  }
 ],
 "metadata": {
  "anaconda-cloud": {},
  "kernel_info": {
   "name": "python3"
  },
  "kernelspec": {
   "display_name": "Python 3",
   "language": "python",
   "name": "python3"
  },
  "language_info": {
   "codemirror_mode": {
    "name": "ipython",
    "version": 3
   },
   "file_extension": ".py",
   "mimetype": "text/x-python",
   "name": "python",
   "nbconvert_exporter": "python",
   "pygments_lexer": "ipython3",
   "version": "3.7.6"
  },
  "latex_envs": {
   "LaTeX_envs_menu_present": true,
   "autoclose": false,
   "autocomplete": true,
   "bibliofile": "biblio.bib",
   "cite_by": "apalike",
   "current_citInitial": 1,
   "eqLabelWithNumbers": true,
   "eqNumInitial": 1,
   "hotkeys": {
    "equation": "Ctrl-E",
    "itemize": "Ctrl-I"
   },
   "labels_anchors": false,
   "latex_user_defs": false,
   "report_style_numbering": false,
   "user_envs_cfg": false
  },
  "nteract": {
   "version": "0.8.4"
  }
 },
 "nbformat": 4,
 "nbformat_minor": 1
}
